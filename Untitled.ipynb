{
 "cells": [
  {
   "cell_type": "code",
   "execution_count": 4,
   "id": "55285e0d",
   "metadata": {},
   "outputs": [
    {
     "name": "stdout",
     "output_type": "stream",
     "text": [
      "Requirement already satisfied: prettytable in /srv/conda/envs/notebook/lib/python3.6/site-packages (2.2.0)\n",
      "Collecting geopy\n",
      "  Downloading geopy-2.2.0-py3-none-any.whl (118 kB)\n",
      "\u001b[K     |████████████████████████████████| 118 kB 4.8 MB/s eta 0:00:01\n",
      "\u001b[?25hRequirement already satisfied: wcwidth in /srv/conda/envs/notebook/lib/python3.6/site-packages (from prettytable) (0.2.5)\n",
      "Requirement already satisfied: importlib-metadata in /srv/conda/envs/notebook/lib/python3.6/site-packages (from prettytable) (4.6.3)\n",
      "Collecting geographiclib<2,>=1.49\n",
      "  Downloading geographiclib-1.52-py3-none-any.whl (38 kB)\n",
      "Requirement already satisfied: typing-extensions>=3.6.4 in /srv/conda/envs/notebook/lib/python3.6/site-packages (from importlib-metadata->prettytable) (3.10.0.0)\n",
      "Requirement already satisfied: zipp>=0.5 in /srv/conda/envs/notebook/lib/python3.6/site-packages (from importlib-metadata->prettytable) (3.5.0)\n",
      "Installing collected packages: geographiclib, geopy\n",
      "Successfully installed geographiclib-1.52 geopy-2.2.0\n",
      "Note: you may need to restart the kernel to use updated packages.\n"
     ]
    }
   ],
   "source": [
    "pip install prettytable geopy\n"
   ]
  },
  {
   "cell_type": "code",
   "execution_count": 10,
   "id": "5310361f",
   "metadata": {},
   "outputs": [
    {
     "data": {
      "text/html": [
       "<style>pre { white-space: pre !important; }</style>"
      ],
      "text/plain": [
       "<IPython.core.display.HTML object>"
      ]
     },
     "metadata": {},
     "output_type": "display_data"
    }
   ],
   "source": [
    "from IPython.core.display import display, HTML\n",
    "# display(HTML(\"<style>.container { width:100% !important; }</style>\"))\n",
    "display(HTML(\"<style>pre { white-space: pre !important; }</style>\"))\n"
   ]
  },
  {
   "cell_type": "code",
   "execution_count": 8,
   "id": "ae58d9ba",
   "metadata": {},
   "outputs": [
    {
     "name": "stdout",
     "output_type": "stream",
     "text": [
      "********************************** Weather Data for  David Thompson Highway, Rocky Mountain House, Alberta, T4T 0B1, Canada **********************************\n",
      "\n",
      "Current Weather\n",
      "-------------------\n",
      "Current Temperature: 8.7 C°\n",
      "Feels like: 6.9 C°\n",
      "Conditions: broken clouds C°\n",
      "\n",
      "7 Day Forecast\n",
      "+-------------------------+-------------------------+-------------------------+-------------------------+-------------------------+-------------------------+-------------------------+-------------------------+\n",
      "| Mon, September 13 2021  | Tue, September 14 2021  | Wed, September 15 2021  | Thu, September 16 2021  | Fri, September 17 2021  | Sat, September 18 2021  | Sun, September 19 2021  | Mon, September 20 2021  |\n",
      "+-------------------------+-------------------------+-------------------------+-------------------------+-------------------------+-------------------------+-------------------------+-------------------------+\n",
      "|      Max: 16.98 C°      |      Max: 19.34 C°      |      Max: 12.48 C°      |      Max: 12.19 C°      |       Max: 11.2 C°      |       Max: 6.81 C°      |       Max: 5.28 C°      |      Max: 14.16 C°      |\n",
      "|       Min: 4.36 C°      |       Min: 5.21 C°      |       Min: 2.7 C°       |      Min: -0.12 C°      |       Min: 0.17 C°      |       Min: 1.15 C°      |       Min: 3.45 C°      |       Min: 0.98 C°      |\n",
      "+-------------------------+-------------------------+-------------------------+-------------------------+-------------------------+-------------------------+-------------------------+-------------------------+\n",
      "\n",
      "********************************** Weather Alerts **********************************\n",
      "Monday, September 13 2021 at 21:31 PM UTC\n",
      "Frost advisory in effect\n",
      "Active until Tuesday, September 14 2021 at 13:31 PM UTC\n",
      "issued by: Environment Canada\n",
      "----------------------------------------------\n",
      "Description\n",
      "\n",
      "Frost may damage some crops in frost-prone areas.\n",
      "\n",
      "Temperatures are expected to drop to near or below zero tonight.\n",
      "\n",
      "###\n",
      "\n",
      "Frost advisories are issued when temperatures are expected to reach the freezing mark during the growing season, leading to potential damage and destruction to plants and crops.\n",
      "\n",
      "Please continue to monitor alerts and forecasts issued by Environment Canada. To report severe weather, send an email to ABstorm@canada.ca or tweet reports using #ABStorm.\n",
      "\n"
     ]
    }
   ],
   "source": [
    "import requests\n",
    "from datetime import datetime\n",
    "import prettytable\n",
    "from geopy.geocoders import Nominatim\n",
    "\n",
    "apiKey = \"05d26a856cc9acf4026b4d3175cbcde3\"\n",
    "lat = 52.379873\n",
    "lon = -114.9142577\n",
    "part = \"minutely,hourly\"\n",
    "units = 'metric'\n",
    "lang = 'en'\n",
    "\n",
    "# For more documentation/info api data used in this code refer to this page \n",
    "#  https://openweathermap.org/api/one-call-api#current\n",
    "\n",
    "oneCallUrl = f\"http://api.openweathermap.org/data/2.5/onecall?lat={lat}&lon={lon}&exclude={part}\" \\\n",
    "             f\"&appid={apiKey}&lang={lang}&units={units}\"\n",
    "response = requests.get(oneCallUrl)\n",
    "\n",
    "\n",
    "def alertParser(alerts):\n",
    "    for alert in alerts:\n",
    "        alert[\"startStr\"] = datetime.utcfromtimestamp(alert['start']).strftime('%A, %B %d %Y at %H:%M %p UTC')\n",
    "        alert[\"endStr\"] = datetime.utcfromtimestamp(alert['end']).strftime('%A, %B %d %Y at %H:%M %p UTC')\n",
    "    return alerts\n",
    "\n",
    "\n",
    "def currentDataParser(current):\n",
    "    current[\"dateStr\"] = datetime.utcfromtimestamp(current['dt']).strftime('%A, %B %d %Y at %H:%M %p UTC')\n",
    "    return current\n",
    "\n",
    "\n",
    "def getLocationName(latitude, longitude):\n",
    "    locator = Nominatim(user_agent=\"myGeocoder\")\n",
    "    coords = str(latitude) + \",\" + str(longitude)\n",
    "    locationName = locator.reverse(coords)\n",
    "    if locationName is not None and ({\"city\", \"address\", \"country\"} <= set(locationName.raw['address'])):\n",
    "        return f\"{locationName.raw['address']['city']}, \" \\\n",
    "               f\"{locationName.raw['address']['state']}, \" \\\n",
    "               f\"{locationName.raw['address']['country']}\"\n",
    "    else:\n",
    "        return locationName.raw['display_name']\n",
    "\n",
    "\n",
    "def printCurrentWeather(currentLocation, current):\n",
    "    print(f\"********************************** Weather Data for  {currentLocation} **********************************\")\n",
    "    print(\"\\nCurrent Weather\")\n",
    "    print(\"-------------------\")\n",
    "\n",
    "    print(f\"Current Temperature: {current['temp']} C\\u00b0\")\n",
    "    print(f\"Feels like: {current['feels_like']} C\\u00b0\")\n",
    "    print(f\"Conditions: {current['weather'][0]['description']} C\\u00b0\")\n",
    "\n",
    "\n",
    "def print7DayForecast(daily):\n",
    "    print(\"\\n7 Day Forecast\")\n",
    "    listOfDays = list(map(lambda x: datetime.utcfromtimestamp(x['dt']).strftime('%a, %B %d %Y '), daily))\n",
    "    table = prettytable.PrettyTable()\n",
    "    for i, item in enumerate(daily):\n",
    "        maxTemp = \"Max: \" + str(item['temp']['max']) + \" C\\u00b0\"\n",
    "        minTemp = \"Min: \" + str(item['temp']['min']) + \" C\\u00b0\"\n",
    "        table.add_column(listOfDays[i], [maxTemp, minTemp])\n",
    "    print(table)\n",
    "\n",
    "\n",
    "def printAlerts(data):\n",
    "    print(f\"\\n********************************** Weather Alerts **********************************\")\n",
    "    if 'alerts' not in data:\n",
    "        print(\"No current alerts were found for this location \")\n",
    "    else:\n",
    "        alertData = alertParser(data['alerts'])\n",
    "        for alert in alertData:\n",
    "            sender = alert['sender_name']\n",
    "            eventName = alert['event']\n",
    "            startTime = alert['startStr']\n",
    "            endTime = alert['endStr']\n",
    "            description = alert['description']\n",
    "\n",
    "            print(startTime)\n",
    "            print(f\"{eventName.capitalize()} advisory in effect\")\n",
    "            print(f\"Active until {endTime}\")\n",
    "            print(f\"issued by: {sender}\")\n",
    "            print(\"----------------------------------------------\")\n",
    "            print(\"Description\")\n",
    "            print(description)\n",
    "\n",
    "\n",
    "def main():\n",
    "    if response.status_code == 200:\n",
    "        data = response.json()\n",
    "        currentData = currentDataParser(data['current'])\n",
    "        dailyTemp = data['daily']\n",
    "        getLocationFromCoords = getLocationName(lat, lon)\n",
    "\n",
    "        printCurrentWeather(getLocationFromCoords, currentData)\n",
    "        print7DayForecast(dailyTemp)\n",
    "        printAlerts(data)\n",
    "\n",
    "    else:\n",
    "        print(\n",
    "            f\"Response returned the following error code: {response.status_code} -- {response.reason}\")\n",
    "\n",
    "\n",
    "if __name__ == \"__main__\":\n",
    "    main()\n"
   ]
  },
  {
   "cell_type": "code",
   "execution_count": null,
   "id": "99adaad5",
   "metadata": {},
   "outputs": [],
   "source": []
  }
 ],
 "metadata": {
  "kernelspec": {
   "display_name": "Python 3",
   "language": "python",
   "name": "python3"
  },
  "language_info": {
   "codemirror_mode": {
    "name": "ipython",
    "version": 3
   },
   "file_extension": ".py",
   "mimetype": "text/x-python",
   "name": "python",
   "nbconvert_exporter": "python",
   "pygments_lexer": "ipython3",
   "version": "3.6.13"
  }
 },
 "nbformat": 4,
 "nbformat_minor": 5
}
